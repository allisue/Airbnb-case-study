{
 "cells": [
  {
   "cell_type": "markdown",
   "metadata": {},
   "source": [
    "### Welcome to the Airbnb Mini Practice Project\n",
    "\n",
    "As you've worked through Python Sub Unit you would have realised there are a number of powerful functions you can use.\n",
    "\n",
    "You would have covered the following libraries:\n",
    "\n",
    "<li> Matplotlib </li>\n",
    "<li> Seaborn </li>\n",
    "<li> Pandas </li> \n",
    "    \n",
    "These are all powerful libraries to help augment your data analysis capabilities.\n",
    "In these set of exercises below, we've crafted a few extra challenges to reinforce your understanding of how these libraries work. \n",
    "\n",
    "Please note there is a particular emphasis on the Pandas Library as this is the most critical library you will be using throughout your career as a data analyst. You'll see the similarities that hold with respect to Pandas and Pivot Tables!\n",
    "    \n",
    "<b> The most important thing to build confidence with Python is to practice all the time. This way you will build muscle memory. Don't simply copy the code you've written previously but write it again and again so you build the muscle memory associated with these coding libraries. </b> \n",
    "\n",
    "<H3>  Let's get started! </H3>"
   ]
  },
  {
   "cell_type": "markdown",
   "metadata": {},
   "source": [
    "We've provided a file called airbnb_2.csv that you'll need to import.\n",
    "\n",
    "Let's do this first before we start our analysis.\n",
    "\n",
    "<b> Don't forget to import the libraries you need to read .csv files! </b> \n",
    "\n"
   ]
  },
  {
   "cell_type": "markdown",
   "metadata": {},
   "source": [
    "### Step 1: <span style=\"color:green\">Import Libraries</span> \n",
    "<b> Put your code in the box below </b>\n"
   ]
  },
  {
   "cell_type": "code",
   "execution_count": 37,
   "metadata": {},
   "outputs": [],
   "source": [
    "import pandas as pd"
   ]
  },
  {
   "cell_type": "code",
   "execution_count": 38,
   "metadata": {},
   "outputs": [],
   "source": [
    "import numpy as np"
   ]
  },
  {
   "cell_type": "code",
   "execution_count": 39,
   "metadata": {},
   "outputs": [],
   "source": [
    "import seaborn as sns"
   ]
  },
  {
   "cell_type": "code",
   "execution_count": 40,
   "metadata": {},
   "outputs": [],
   "source": [
    "import matplotlib.pyplot as plt"
   ]
  },
  {
   "cell_type": "markdown",
   "metadata": {},
   "source": [
    "### Step 2: <span style=\"color:green\">Import the Airbnb Dataset</span> "
   ]
  },
  {
   "cell_type": "markdown",
   "metadata": {},
   "source": [
    "Now that you have the Pandas Libraries imported, it's time to import the airbnb dataset.\n",
    "\n",
    "<b> i) Please import the airbnb dataset.\n",
    "\n",
    "ii) Upon completion of this, use .info() to better understand the variables inside your dataset.\n",
    "<p>    \n",
    "\n",
    "<b> Put your code in the box below </b>"
   ]
  },
  {
   "cell_type": "code",
   "execution_count": 53,
   "metadata": {},
   "outputs": [
    {
     "name": "stdout",
     "output_type": "stream",
     "text": [
      "<class 'pandas.core.frame.DataFrame'>\n",
      "RangeIndex: 48895 entries, 0 to 48894\n",
      "Data columns (total 16 columns):\n",
      " #   Column                          Non-Null Count  Dtype  \n",
      "---  ------                          --------------  -----  \n",
      " 0   id                              48895 non-null  int64  \n",
      " 1   name                            48879 non-null  object \n",
      " 2   host_id                         48895 non-null  int64  \n",
      " 3   host_name                       48874 non-null  object \n",
      " 4   neighbourhood_group             48895 non-null  object \n",
      " 5   neighbourhood                   48895 non-null  object \n",
      " 6   latitude                        48895 non-null  float64\n",
      " 7   longitude                       48895 non-null  float64\n",
      " 8   room_type                       48895 non-null  object \n",
      " 9   price                           48895 non-null  int64  \n",
      " 10  minimum_nights                  48895 non-null  int64  \n",
      " 11  number_of_reviews               48895 non-null  int64  \n",
      " 12  last_review                     38843 non-null  object \n",
      " 13  reviews_per_month               38843 non-null  float64\n",
      " 14  calculated_host_listings_count  48895 non-null  int64  \n",
      " 15  availability_365                48895 non-null  int64  \n",
      "dtypes: float64(3), int64(7), object(6)\n",
      "memory usage: 6.0+ MB\n"
     ]
    }
   ],
   "source": [
    "Airbnb= pd.read_csv(\"airbnb_2.csv\")\n",
    "Airbnb.info()"
   ]
  },
  {
   "cell_type": "code",
   "execution_count": null,
   "metadata": {},
   "outputs": [],
   "source": []
  },
  {
   "cell_type": "markdown",
   "metadata": {},
   "source": [
    "### Step 3: <span style=\"color:green\">Exploring your data with Pandas</span> \n",
    "\n",
    "The rest of these questions will have you focus on using the following Pandas Skills:\n",
    "\n",
    "<li> Subsetting a Pandas dataframe using [] and boolean operators </li>\n",
    "<li> Summing up Records with value_counts()</li>\n",
    "<li> Creating calculated fields </li>\n",
    "<li> Group By in Pandas </li> \n",
    "<li> Creating Bar Plots with Matplotlib</li> \n",
    "\n"
   ]
  },
  {
   "cell_type": "markdown",
   "metadata": {},
   "source": [
    "<b> i)  Please count how many airbnb listings are in each of the 5 Neighbourhood Groups (Manhattan, Brooklyn, Queens, Bronx, Staten Island) and identify which Neighbourhood Groups has the largest number of Airbnb Listings </b>\n",
    "<p>\n",
    "    <b> Put your code in the box below </b>"
   ]
  },
  {
   "cell_type": "code",
   "execution_count": 99,
   "metadata": {},
   "outputs": [
    {
     "data": {
      "image/png": "[encoded data removed]",
      "text/plain": [
       "<Figure size 432x288 with 1 Axes>"
      ]
     },
     "metadata": {
      "needs_background": "light"
     },
     "output_type": "display_data"
    }
   ],
   "source": [
    "sns.countplot(x= 'neighbourhood_group', data= Airbnb)\n",
    "plt.show()"
   ]
  },
  {
   "cell_type": "markdown",
   "metadata": {},
   "source": [
    "We want to focus our attention on the Neighbourhood Groups that have the top 3 number of Airbnb Listings.\n",
    "\n",
    "<b> ii) Calculate the % listings that each Neighbourhood Group contains. </b>\n",
    "\n",
    "<b> Put your code in the box below </b>"
   ]
  },
  {
   "cell_type": "code",
   "execution_count": 57,
   "metadata": {},
   "outputs": [
    {
     "name": "stdout",
     "output_type": "stream",
     "text": [
      "Manhattan    0.443011\n",
      "Brooklyn     0.411167\n",
      "Queens       0.115881\n",
      "Name: neighbourhood_group, dtype: float64\n"
     ]
    }
   ],
   "source": [
    "Airbnb_Percent_Listings = Airbnb['neighbourhood_group'].value_counts(normalize= True)\n",
    "print(Airbnb_Percent_Listings.head(3))"
   ]
  },
  {
   "cell_type": "markdown",
   "metadata": {},
   "source": [
    "<b> iii) Create a new calculated field called Revenue and place this into the Airbnb Dataframe. This is to be calculated by using the Price Column x Number_Of_Reviews Columns </b>\n",
    "\n",
    "<b> Put your code in the box below </b>"
   ]
  },
  {
   "cell_type": "code",
   "execution_count": 62,
   "metadata": {},
   "outputs": [],
   "source": [
    "Airbnb['revenue'] = Airbnb['price'] * Airbnb['number_of_reviews']"
   ]
  },
  {
   "cell_type": "markdown",
   "metadata": {},
   "source": [
    "<b> iv) Create a Bar Plot that shows which Neighbourhood Group has the highest average revenues. In order to best\n",
    "calculate this, you'd want to consider how you can use the .groupby() syntax to assist you! </b>\n",
    "\n",
    "If you're stuck, we recommend you go back to <a href = https://learn.datacamp.com/courses/manipulating-dataframes-with-pandas> this </a> datacamp link. Specifically Chapter 4 which covers how GROUP BY is used in Pandas.\n",
    "\n",
    "<b> Put your code in the box below </b>"
   ]
  },
  {
   "cell_type": "code",
   "execution_count": 74,
   "metadata": {},
   "outputs": [
    {
     "data": {
      "image/png": "[encoded data removed]",
      "text/plain": [
       "<Figure size 360x360 with 1 Axes>"
      ]
     },
     "metadata": {
      "needs_background": "light"
     },
     "output_type": "display_data"
    }
   ],
   "source": [
    "category_order = ['Manhattan', 'Brooklyn', 'Staten Island', 'Queens', 'Bronx']\n",
    "sns.catplot(x= 'neighbourhood_group', y= 'revenue', data= Airbnb, kind= 'bar', order= category_order)\n",
    "plt.show()"
   ]
  },
  {
   "cell_type": "markdown",
   "metadata": {},
   "source": [
    "<h3> <span style=\"color:green\">Challenge Questions</span> </h3>"
   ]
  },
  {
   "cell_type": "markdown",
   "metadata": {},
   "source": [
    "<b> V) Filter the Airbnb Dataframe to include only the Neighbourhood Groups Manhattan, Brookly and Queens. \n",
    "    \n",
    "Upon completion of this, identify the top 3 Revenue Generating Neighborhoods within each of the three Neighbourhood_Groups. This should give us 9 Overall Rows: 3 of the top generating neighbourhoods within each of the 3 Neighbourhood_Groups </b>\n",
    "\n",
    "This is a tricky question that will *test* your group-by skills.\n",
    "\n",
    "We recommend you consider the following:\n",
    "\n",
    "    condition1 = someDataFrame['someColumn']=='someCondition'\n",
    "    condition2 = someDataFrame['someColumn']=='someCondition'\n",
    "    \n",
    "    Step One - Filter the Dataframe using the Conditions\n",
    "    filtered_dataframe = someDataFrame[condition1 OR condition 2] \n",
    "    #Hint: You might want to look up what the OR symbol in Python is represented as in operator form (i.e. AND (&) )\n",
    "    \n",
    "    Step Two - Group the Data by Neighbourhood_Group and Neighbourhood. Don't forget you're looking to SUM up the Revenues.\n",
    "    \n",
    "    The remaining steps we recommend you think very carefully about.\n",
    "    \n",
    "    You might want to make use of the .reset_index(inplace=True) function to help reset the indexes in \n",
    "    your Grouped Up Dataframe...!\n",
    "    \n",
    "    \n",
    "<b> Put your code in the box below </b>"
   ]
  },
  {
   "cell_type": "code",
   "execution_count": 93,
   "metadata": {},
   "outputs": [
    {
     "data": {
      "text/html": [
       "<div>\n",
       "<style scoped>\n",
       "    .dataframe tbody tr th:only-of-type {\n",
       "        vertical-align: middle;\n",
       "    }\n",
       "\n",
       "    .dataframe tbody tr th {\n",
       "        vertical-align: top;\n",
       "    }\n",
       "\n",
       "    .dataframe thead th {\n",
       "        text-align: right;\n",
       "    }\n",
       "</style>\n",
       "<table border=\"1\" class=\"dataframe\">\n",
       "  <thead>\n",
       "    <tr style=\"text-align: right;\">\n",
       "      <th></th>\n",
       "      <th>neighbourhood_group</th>\n",
       "      <th>neighbourhood</th>\n",
       "      <th>revenue</th>\n",
       "    </tr>\n",
       "  </thead>\n",
       "  <tbody>\n",
       "    <tr>\n",
       "      <th>2</th>\n",
       "      <td>Manhattan</td>\n",
       "      <td>Harlem</td>\n",
       "      <td>8598692</td>\n",
       "    </tr>\n",
       "    <tr>\n",
       "      <th>3</th>\n",
       "      <td>Manhattan</td>\n",
       "      <td>Hell's Kitchen</td>\n",
       "      <td>8238991</td>\n",
       "    </tr>\n",
       "    <tr>\n",
       "      <th>4</th>\n",
       "      <td>Manhattan</td>\n",
       "      <td>East Village</td>\n",
       "      <td>7574535</td>\n",
       "    </tr>\n",
       "    <tr>\n",
       "      <th>0</th>\n",
       "      <td>Brooklyn</td>\n",
       "      <td>Williamsburg</td>\n",
       "      <td>12389011</td>\n",
       "    </tr>\n",
       "    <tr>\n",
       "      <th>1</th>\n",
       "      <td>Brooklyn</td>\n",
       "      <td>Bedford-Stuyvesant</td>\n",
       "      <td>12352457</td>\n",
       "    </tr>\n",
       "    <tr>\n",
       "      <th>8</th>\n",
       "      <td>Brooklyn</td>\n",
       "      <td>Bushwick</td>\n",
       "      <td>4762224</td>\n",
       "    </tr>\n",
       "    <tr>\n",
       "      <th>17</th>\n",
       "      <td>Queens</td>\n",
       "      <td>Astoria</td>\n",
       "      <td>1880840</td>\n",
       "    </tr>\n",
       "    <tr>\n",
       "      <th>28</th>\n",
       "      <td>Queens</td>\n",
       "      <td>Long Island City</td>\n",
       "      <td>1374945</td>\n",
       "    </tr>\n",
       "    <tr>\n",
       "      <th>33</th>\n",
       "      <td>Queens</td>\n",
       "      <td>Flushing</td>\n",
       "      <td>1140450</td>\n",
       "    </tr>\n",
       "  </tbody>\n",
       "</table>\n",
       "</div>"
      ],
      "text/plain": [
       "   neighbourhood_group       neighbourhood   revenue\n",
       "2            Manhattan              Harlem   8598692\n",
       "3            Manhattan      Hell's Kitchen   8238991\n",
       "4            Manhattan        East Village   7574535\n",
       "0             Brooklyn        Williamsburg  12389011\n",
       "1             Brooklyn  Bedford-Stuyvesant  12352457\n",
       "8             Brooklyn            Bushwick   4762224\n",
       "17              Queens             Astoria   1880840\n",
       "28              Queens    Long Island City   1374945\n",
       "33              Queens            Flushing   1140450"
      ]
     },
     "execution_count": 93,
     "metadata": {},
     "output_type": "execute_result"
    }
   ],
   "source": [
    "condition1 = Airbnb['neighbourhood_group']=='Manhattan'\n",
    "condition2 = Airbnb['neighbourhood_group']=='Brooklyn'\n",
    "condition3 = Airbnb['neighbourhood_group']=='Queens'\n",
    "\n",
    "filter_conditions = Airbnb[condition1|condition2|condition3]\n",
    "\n",
    "revenue_groups= filter_conditions.groupby(['neighbourhood_group','neighbourhood']).sum()['revenue'].sort_values(ascending=False).reset_index()\n",
    "manhattan = revenue_groups[revenue_groups['neighbourhood_group']=='Manhattan'].head(3)\n",
    "brooklyn = revenue_groups[revenue_groups['neighbourhood_group']=='Brooklyn'].head(3)\n",
    "queens = revenue_groups[revenue_groups['neighbourhood_group']=='Queens'].head(3)\n",
    "\n",
    "Top_Neighborhoods= pd.concat([manhattan,brooklyn,queens])\n",
    "Top_Neighborhoods"
   ]
  },
  {
   "cell_type": "markdown",
   "metadata": {},
   "source": [
    "<b> VI) Building on the previous question where you identified the top 3 Neighbourhoods within each of the three neighbourhood_groups based off Revenues, please filter the Airbnb Dataframe to include only these neighbourhoods. \n",
    "    \n",
    "Upon completion of this, identify the  top average revenue generating room type for each of the nine neighbourhoods and plot this out in a Bar Chart.</b>\n",
    "\n",
    "This is a tricky question that will *test* your group-by skills. Think back to the previous question and how you approached this; you can approach this in a similar manner. \n",
    "\n",
    "We recommend you consider the following:\n",
    "\n",
    "    condition1 = someDataFrame['someColumn']=='someCondition'\n",
    "    condition2 = someDataFrame['someColumn']=='someCondition'\n",
    "    \n",
    "    Step One - Filter the Dataframe using the Conditions\n",
    "    filtered_dataframe = someDataFrame[condition1 OR condition 2] \n",
    "    #Hint: You might want to look up what the OR symbol in Python is represented as in operator form (i.e. AND (&) )\n",
    "    \n",
    "    Step Two - Group the Data by Neighbourhood_Group and Neighbourhood. Don't forget you're looking to SUM up the Revenues.\n",
    "    \n",
    "    The remaining steps we recommend you think very carefully about.\n",
    "    \n",
    "    You might want to make use of the .reset_index(inplace=True) function to help reset the indexes in \n",
    "    your Grouped Up Dataframe...!\n",
    "    \n",
    "    \n",
    " <b> Put your code in the box below </b>      "
   ]
  },
  {
   "cell_type": "code",
   "execution_count": 95,
   "metadata": {},
   "outputs": [
    {
     "data": {
      "text/plain": [
       "<AxesSubplot:xlabel='neighbourhood'>"
      ]
     },
     "execution_count": 95,
     "metadata": {},
     "output_type": "execute_result"
    },
    {
     "data": {
      "image/png": "[encoded data removed]",
      "text/plain": [
       "<Figure size 432x288 with 1 Axes>"
      ]
     },
     "metadata": {
      "needs_background": "light"
     },
     "output_type": "display_data"
    }
   ],
   "source": [
    "condition1 = Airbnb['neighbourhood_group']== 'Manhattan'\n",
    "condition2 = Airbnb['neighbourhood_group']=='Brooklyn'\n",
    "condition3 = Airbnb['neighbourhood_group']=='Queens'\n",
    "\n",
    "Filtered_Airbnb = Airbnb['neighbourhood'].isin(list(Top_Neighborhoods['neighbourhood']))\n",
    "Subset_Airbnb = Airbnb[Filtered_Airbnb].groupby(['neighbourhood','room_type'])['revenue'].mean().sort_values(ascending=False).reset_index()\n",
    "\n",
    "Subset_Airbnb.drop_duplicates('neighbourhood').groupby('neighbourhood').mean().sort_values(by='revenue',ascending=False).plot(kind='bar')"
   ]
  },
  {
   "cell_type": "code",
   "execution_count": null,
   "metadata": {},
   "outputs": [],
   "source": []
  }
 ],
 "metadata": {
  "kernelspec": {
   "display_name": "Python 3 (ipykernel)",
   "language": "python",
   "name": "python3"
  },
  "language_info": {
   "codemirror_mode": {
    "name": "ipython",
    "version": 3
   },
   "file_extension": ".py",
   "mimetype": "text/x-python",
   "name": "python",
   "nbconvert_exporter": "python",
   "pygments_lexer": "ipython3",
   "version": "3.9.12"
  }
 },
 "nbformat": 4,
 "nbformat_minor": 4
}
